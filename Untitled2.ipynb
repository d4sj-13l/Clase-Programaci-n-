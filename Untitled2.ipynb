{
  "nbformat": 4,
  "nbformat_minor": 0,
  "metadata": {
    "colab": {
      "provenance": [],
      "authorship_tag": "ABX9TyNM9j9wUo2f6yfz7pYDzYMz",
      "include_colab_link": true
    },
    "kernelspec": {
      "name": "python3",
      "display_name": "Python 3"
    },
    "language_info": {
      "name": "python"
    }
  },
  "cells": [
    {
      "cell_type": "markdown",
      "metadata": {
        "id": "view-in-github",
        "colab_type": "text"
      },
      "source": [
        "<a href=\"https://colab.research.google.com/github/d4sj-13l/Clase-Programaci-n-/blob/main/Untitled2.ipynb\" target=\"_parent\"><img src=\"https://colab.research.google.com/assets/colab-badge.svg\" alt=\"Open In Colab\"/></a>"
      ]
    },
    {
      "cell_type": "code",
      "execution_count": 12,
      "metadata": {
        "id": "6T0rY9eBIjFb",
        "colab": {
          "base_uri": "https://localhost:8080/"
        },
        "collapsed": true,
        "outputId": "e53b199f-e15a-4329-ffdd-347907480e92"
      },
      "outputs": [
        {
          "output_type": "stream",
          "name": "stdout",
          "text": [
            "velocidad constante (m/s)= 56\n",
            "distancia recorrida (m)= 15\n",
            "tiempo (s) = 30\n",
            "la distancia recorrida es:  1680\n"
          ]
        }
      ],
      "source": [
        "from re import T\n",
        "velocidad = input(\"velocidad constante (m/s)= \")\n",
        "distancia = input(\"distancia recorrida (m)= \")\n",
        "distancia = input(\"tiempo (s) = \")\n",
        "\n",
        "#distancia recorrida= velocidad constante * tiempo\n",
        "\n",
        "#Definir variables\n",
        "v = 56\n",
        "t = 30\n",
        "\n",
        "#Calcular la distancia\n",
        "d = v * t\n",
        "\n",
        "#print resultado:\n",
        "print(\"la distancia recorrida es: \", d)\n"
      ]
    },
    {
      "cell_type": "markdown",
      "source": [
        "#Ejercicio\n",
        "\n",
        "Se desea calcular la distancia recorrida (m) por un auto que tiene una velocidad constante (m/s) durante un tiempo f(x)\n",
        "Considerar que es un Movimiento Rectilineo Uniforme\n",
        "\n",
        "#Datos\n",
        "Distancia recorrida = input(m)\n",
        "\n",
        "Velocidad constante = input(m/s)\n",
        "\n",
        "Tiempo = input(s)"
      ],
      "metadata": {
        "id": "OtzA6POjJ4tC"
      }
    }
  ]
}