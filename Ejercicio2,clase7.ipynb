{
  "nbformat": 4,
  "nbformat_minor": 0,
  "metadata": {
    "colab": {
      "provenance": [],
      "authorship_tag": "ABX9TyPjzQcLjm9j68cH79nNL8vL",
      "include_colab_link": true
    },
    "kernelspec": {
      "name": "python3",
      "display_name": "Python 3"
    },
    "language_info": {
      "name": "python"
    }
  },
  "cells": [
    {
      "cell_type": "markdown",
      "metadata": {
        "id": "view-in-github",
        "colab_type": "text"
      },
      "source": [
        "<a href=\"https://colab.research.google.com/github/d4sj-13l/Clase-Programaci-n-/blob/main/Ejercicio2%2Cclase7.ipynb\" target=\"_parent\"><img src=\"https://colab.research.google.com/assets/colab-badge.svg\" alt=\"Open In Colab\"/></a>"
      ]
    },
    {
      "cell_type": "code",
      "execution_count": null,
      "metadata": {
        "id": "oyViv4xFQm3c"
      },
      "outputs": [],
      "source": []
    },
    {
      "cell_type": "markdown",
      "source": [
        "Ejercicio  \n",
        "\n",
        "Se requiere obtener el promedio simple de un estudiante a partir de sus tres calificaciones parciales N1, N2, N3"
      ],
      "metadata": {
        "id": "isX7LwxzQowr"
      }
    },
    {
      "cell_type": "code",
      "source": [
        "print(\"---------------------------------------------------------------\")\n",
        "print(\"---------------PROGRAMA QUE CALCULA EL PROMEDIO----------------\")\n",
        "print(\"---------------------------------------------------------------\")\n",
        "\n",
        "#Datos de entrada\n",
        "print(\"Ingrese las 3 calificaciones del alumno N1, N2 y N3\")\n",
        "N1=int(input(\"N1: \"))\n",
        "N2=int(input(\"N2: \"))\n",
        "N3=int(input(\"N3: \"))\n",
        "\n",
        "#Proceso\n",
        "Promedio=(N1+N2+N3)/3\n",
        "\n",
        "#Salida\n",
        "print(\"El promedio del alumno es: \", Promedio)\n"
      ],
      "metadata": {
        "colab": {
          "base_uri": "https://localhost:8080/"
        },
        "id": "nIblT7LqRP26",
        "outputId": "e5d5565d-7256-458d-895b-a479a9ff8afc"
      },
      "execution_count": null,
      "outputs": [
        {
          "output_type": "stream",
          "name": "stdout",
          "text": [
            "---------------------------------------------------------------\n",
            "---------------PROGRAMA QUE CALCULA EL PROMEDIO----------------\n",
            "---------------------------------------------------------------\n",
            "Ingrese las 3 calificaciones del alumno N1, N2 y N3\n",
            "N1: 10\n",
            "N2: 5\n",
            "N3: 7\n",
            "El promedio del alumno es:  7.333333333333333\n"
          ]
        }
      ]
    },
    {
      "cell_type": "markdown",
      "source": [
        "##Ejercicio\n",
        "\n",
        "Se requiere elaborar un programa que solicite el número de respuestas correctas, incorrectas y en blanco correspondientes a alumnos, y muestre su puntaje final considerando que por cada respuesta correcta tendrá 3 puntos, respuestas incorrectas -1 y respuestas en blanco 0.  "
      ],
      "metadata": {
        "id": "oikdAIV6Ud7m"
      }
    },
    {
      "cell_type": "code",
      "source": [
        "print(\"---------------------------------------------------------------\")\n",
        "print(\"------------PROGRAMA QUE CALCULA EL PUNTAJE FINAL--------------\")\n",
        "print(\"---------------------------------------------------------------\")\n",
        "\n",
        "#Datos de entrada\n",
        "print(\"Ingrese las respuestas correctas, incorrectas y en blanco del alumno\")\n",
        "Rc=int(input(\"Rc: \"))\n",
        "Ri=int(input(\"Ri: \"))\n",
        "Rb=int(input(\"Rb: \"))\n",
        "\n",
        "#Proceso\n",
        "Puntaje=(Rc*3)+(Ri*-1)+(Rb*0)\n",
        "\n",
        "#Salida\n",
        "print(\"El puntaje del alumno es: \", Puntaje )\n",
        "\n"
      ],
      "metadata": {
        "colab": {
          "base_uri": "https://localhost:8080/"
        },
        "collapsed": true,
        "id": "MGwWNFzDVZ0W",
        "outputId": "4611595e-0b8b-4dda-be80-e1c75f78d864"
      },
      "execution_count": null,
      "outputs": [
        {
          "output_type": "stream",
          "name": "stdout",
          "text": [
            "---------------------------------------------------------------\n",
            "------------PROGRAMA QUE CALCULA EL PUNTAJE FINAL--------------\n",
            "---------------------------------------------------------------\n",
            "Ingrese las respuestas correctas, incorrectas y en blanco del alumno\n",
            "Rc: 50\n",
            "Ri: 15\n",
            "Rb: 3\n",
            "El puntaje del alumno es:  135\n"
          ]
        }
      ]
    },
    {
      "cell_type": "markdown",
      "source": [
        "## Ejercicio\n",
        "\n",
        "Se tienen los puntos A y B en el cuadrante positivo del plano cartesiano, elabore el programa que permita obtener la distancia entre A y B\n",
        "\n",
        "D = √(Ax -Bx)^2 + (Ay -By)^2\n"
      ],
      "metadata": {
        "id": "GamKcg1BZM-B"
      }
    },
    {
      "cell_type": "code",
      "source": [],
      "metadata": {
        "collapsed": true,
        "id": "LeeaYJMfaXl2"
      },
      "execution_count": null,
      "outputs": []
    },
    {
      "cell_type": "code",
      "source": [
        "print(\"-----------------------------------------------------------------\")\n",
        "print(\"----------------PROGRAMA QUE CALCULA LA DISTANCIA----------------\")\n",
        "print(\"-----------------------------------------------------------------\")\n",
        "\n",
        "#Datos de entrada\n",
        "print(\"Ingrese los puntos A y B en el cuadrante positivo del plano cartesiano\")\n",
        "Ax\n"
      ],
      "metadata": {
        "id": "nJep47DSpL3-"
      },
      "execution_count": null,
      "outputs": []
    },
    {
      "cell_type": "code",
      "source": [
        "import matplotlib.pyplot as plt\n",
        "import numpy as np\n",
        "%matplotlib inline\n",
        "\n",
        "plt.plot ([5, 2], [1, 4])\n",
        "plt.text (3, 8, \"distancia es \", color=\"blue\")\n",
        "plt.show()"
      ],
      "metadata": {
        "id": "LIFr1wapfVbi"
      },
      "execution_count": null,
      "outputs": []
    }
  ]
}