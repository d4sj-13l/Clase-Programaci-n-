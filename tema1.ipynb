{
  "nbformat": 4,
  "nbformat_minor": 0,
  "metadata": {
    "colab": {
      "provenance": [],
      "authorship_tag": "ABX9TyNWfEzCHgfdve4uLYwUM1G7",
      "include_colab_link": true
    },
    "kernelspec": {
      "name": "python3",
      "display_name": "Python 3"
    },
    "language_info": {
      "name": "python"
    }
  },
  "cells": [
    {
      "cell_type": "markdown",
      "metadata": {
        "id": "view-in-github",
        "colab_type": "text"
      },
      "source": [
        "<a href=\"https://colab.research.google.com/github/d4sj-13l/Clase-Programaci-n-/blob/main/tema1.ipynb\" target=\"_parent\"><img src=\"https://colab.research.google.com/assets/colab-badge.svg\" alt=\"Open In Colab\"/></a>"
      ]
    },
    {
      "cell_type": "code",
      "execution_count": null,
      "metadata": {
        "id": "8wVTDbBeBfAi"
      },
      "outputs": [],
      "source": []
    },
    {
      "cell_type": "markdown",
      "source": [
        "**Lenguaje y Algoritmo**\n",
        "\n",
        "Lenguaje de programación\n",
        "\n",
        "* C\n",
        "* C++\n",
        "* Java\n",
        "* Fortran\n",
        "* Delphi\n",
        "\n",
        "**Algoritmo**\n",
        "Conjunto de pasos, procedimientos o acciones que nos permiten alcanzar un resultado o resolver un problema.\n",
        "\n",
        "Características:\n",
        "\n",
        "Determinismo\n",
        "Precisión\n",
        "Finitud\n",
        "\n",
        "(Cairó et al., 1993)\n",
        "\n",
        "**Datos**\n",
        "\n",
        "Valores enteros y valores reales\n",
        "Valores enteros pueden estar precedidos por los signos ( +  -)\n",
        "\n",
        "128 152s -714 8 530 -14 789\n",
        "7.5 128.0 -37.865 129.7 16 000.50\n",
        "\n",
        "**Datos Alfanúmericos**\n",
        "*caracter\n",
        "*cadena\n",
        "\n",
        "(a,b,c...z)\n",
        "(0, 1, 2, 3... 9)\n",
        "(#, ?, $, %, *, etc)\n",
        "\n",
        "'a' 'B' '$' '9' 'H'\n",
        "\n",
        "\"abc\"  \"$9#7\"  \"Heeeectoooor\" \"754-27-22\"\n",
        "\n",
        "**Datos Lógicos**\n",
        "\n",
        "booleanos\n",
        "\n",
        "Verdadero (true)\n",
        "\n",
        "Falso     (false)\n"
      ],
      "metadata": {
        "id": "M28iuLgAEUAI"
      }
    },
    {
      "cell_type": "code",
      "source": [
        "#tipos de Variable en Python\n",
        "#El tipo de variable estará determinado por el tipo de dato que almacena\n",
        "#Enteros: vasta agregar un valor entero.\n",
        "\n",
        "a=10\n",
        "b=11\n",
        "#c=a+b\n",
        "#print(c)\n",
        "\n",
        "#Decimales: deben agregarse un número con punto flotante\n",
        "c=3.1416\n",
        "\n",
        "#Booleanos: Datos con verdaderos y falso\n",
        "#Se pueden usar palabras: True y False\n",
        "\n",
        "verdad= True\n",
        "falso= False\n",
        "\n",
        "verdad = 1\n",
        "Falso = 0\n",
        "\n",
        "#Texto o Cadena o String\n",
        "saludo = \"Hola Mundo\"\n",
        "nombre = \"Juan\"\n",
        "\n",
        "uno = 'a'\n",
        "dos = 'b'\n",
        "tres = 'c'\n",
        "\n",
        "print(a)\n",
        "print(b)\n",
        "print(c)\n",
        "print(verdad)\n",
        "print(falso)\n",
        "print(verdad)\n",
        "print(falso)\n",
        "print(saludo)\n",
        "print(nombre)\n",
        "print(uno)\n",
        "print(dos)"
      ],
      "metadata": {
        "colab": {
          "base_uri": "https://localhost:8080/"
        },
        "id": "xM-AtUooML8I",
        "outputId": "f75ddc68-3088-4082-80cd-6722a381c06f"
      },
      "execution_count": 5,
      "outputs": [
        {
          "output_type": "stream",
          "name": "stdout",
          "text": [
            "10\n",
            "11\n",
            "3.1416\n",
            "1\n",
            "False\n",
            "1\n",
            "False\n",
            "Hola Mundo\n",
            "Juan\n",
            "a\n",
            "b\n"
          ]
        }
      ]
    }
  ]
}