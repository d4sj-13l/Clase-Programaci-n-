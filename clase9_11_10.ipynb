{
  "nbformat": 4,
  "nbformat_minor": 0,
  "metadata": {
    "colab": {
      "provenance": [],
      "authorship_tag": "ABX9TyMqronI80QZehX5aww+JRZB",
      "include_colab_link": true
    },
    "kernelspec": {
      "name": "python3",
      "display_name": "Python 3"
    },
    "language_info": {
      "name": "python"
    }
  },
  "cells": [
    {
      "cell_type": "markdown",
      "metadata": {
        "id": "view-in-github",
        "colab_type": "text"
      },
      "source": [
        "<a href=\"https://colab.research.google.com/github/d4sj-13l/Clase-Programaci-n-/blob/main/clase9_11_10.ipynb\" target=\"_parent\"><img src=\"https://colab.research.google.com/assets/colab-badge.svg\" alt=\"Open In Colab\"/></a>"
      ]
    },
    {
      "cell_type": "code",
      "execution_count": null,
      "metadata": {
        "id": "FHfbsfWCW21s"
      },
      "outputs": [],
      "source": []
    },
    {
      "cell_type": "markdown",
      "source": [
        "##Elaborar un programa que permita ingresar el  número de partidos ganados, perdidos, y empatados del club de fútbol \"real bañil\" en el torneo apertura 2024, se debe mostrar el puntaje final teniendo en cuenta que por cada partido ganado obtendrá 3 puntos, 1 por los empates y 0 por perder."
      ],
      "metadata": {
        "id": "tl_RsW8YXmE-"
      }
    },
    {
      "cell_type": "code",
      "source": [
        "print(\"-------------------------------------------\")\n",
        "print(\"Puntaje final del club de futbol Real-Bañil\")\n",
        "print(\"-------------------------------------------\")\n",
        "\n",
        "#Entrada\n",
        "print(\"Ingrese el total de partidos ganados: \")\n",
        "ganados = int(input())\n",
        "print(\"Ingrese el total de partidos perdidos: \")\n",
        "perdidos = int(input())\n",
        "print(\"Ingrese el total de partidos empatados: \")\n",
        "empatados = int(input())\n",
        "\n",
        "pg=ganados*3\n",
        "pp=perdidos*0\n",
        "pe=empatados*1\n",
        "\n",
        "PF=pg+pp+pe\n",
        "print(\"----------------------------------\")\n",
        "print(\"El puntaje final del club es: \", PF)\n",
        "\n",
        "\n"
      ],
      "metadata": {
        "colab": {
          "base_uri": "https://localhost:8080/"
        },
        "id": "K8xGkoA7Yenr",
        "outputId": "de5a5afd-4b79-4bc2-810b-8f996cf136d6"
      },
      "execution_count": 1,
      "outputs": [
        {
          "output_type": "stream",
          "name": "stdout",
          "text": [
            "-------------------------------------------\n",
            "Puntaje final del club de futbol Real-Bañil\n",
            "-------------------------------------------\n",
            "Ingrese el total de partidos ganados: \n",
            "5\n",
            "Ingrese el total de partidos perdidos: \n",
            "2\n",
            "Ingrese el total de partidos empatados: \n",
            "1\n",
            "----------------------------------\n",
            "El puntaje final del club es:  16\n"
          ]
        }
      ]
    },
    {
      "cell_type": "markdown",
      "source": [
        "Escribir un programa que dado como datos el radio y la altura de un cilindro, calcular e imprimir el área y volumen del mismo."
      ],
      "metadata": {
        "id": "GEgs70XEcOIf"
      }
    },
    {
      "cell_type": "code",
      "source": [
        "print(\"--------------------------------------------------------\")\n",
        "print(\"Programa que calcule el area y el volumen de un cilindro\")\n",
        "print(\"--------------------------------------------------------\")\n",
        "\n",
        "PI=3.1416\n",
        "#Entrada\n",
        "print(\"Ingrese el radio y la altura del cilindro: \")\n",
        "radio=float(input())\n",
        "altura=float(input())\n",
        "\n",
        "#Proceso\n",
        "Vol=PI*radio**2*altura\n",
        "area=2*PI*radio*(radio + altura)\n",
        "\n",
        "#Salida\n",
        "print(\"-----------------------------------------------------------\")\n",
        "print(\"El área del cilindro es: \", area)\n",
        "print(\"El volumen del cilindro es: \", Vol)\n",
        "\n",
        "\n",
        "\n",
        "\n"
      ],
      "metadata": {
        "colab": {
          "base_uri": "https://localhost:8080/"
        },
        "id": "E67h8folc_gX",
        "outputId": "2a6981a8-858f-4b62-d416-d98ab8d27165"
      },
      "execution_count": 8,
      "outputs": [
        {
          "output_type": "stream",
          "name": "stdout",
          "text": [
            "--------------------------------------------------------\n",
            "Programa que calcule el area y el volumen de un cilindro\n",
            "--------------------------------------------------------\n",
            "Ingrese el radio y la altura del cilindro: \n",
            "1\n",
            "8\n",
            "-----------------------------------------------------------\n",
            "El área del cilindro es:  56.5488\n",
            "El volumen del cilindro es:  25.1328\n"
          ]
        }
      ]
    },
    {
      "cell_type": "markdown",
      "source": [
        "Escribir un programa que calcule el perímetro de un triángulo equilátero, teniendo como dato de entrada la altura."
      ],
      "metadata": {
        "id": "R08AR6g0jJMh"
      }
    },
    {
      "cell_type": "code",
      "source": [
        "print(\"------------------------------------------------------------\")\n",
        "print(\"Programa que calcule el perimetro de un triángulo equilatero\")\n",
        "print(\"------------------------------------------------------------\")\n",
        "\n",
        "#Datos de entrada\n",
        "print(\"Ingrese la altura del triángulo: \")\n",
        "altura=float(input(\"La altura es: \"))\n",
        "\n",
        "#Proceso\n",
        "perimetro= (2*altura*3**0.5)\n",
        "\n",
        "#Salida\n",
        "print(\"El perimetro del triángulo es: \", perimetro)\n",
        "\n"
      ],
      "metadata": {
        "colab": {
          "base_uri": "https://localhost:8080/"
        },
        "collapsed": true,
        "id": "BMMNlfEcjav_",
        "outputId": "cf5bfc6e-f987-402b-ce1a-fb3193913eab"
      },
      "execution_count": 10,
      "outputs": [
        {
          "output_type": "stream",
          "name": "stdout",
          "text": [
            "------------------------------------------------------------\n",
            "Programa que calcule el perimetro de un triángulo equilatero\n",
            "------------------------------------------------------------\n",
            "Ingrese la altura del triángulo: \n",
            "La altura es: 4\n",
            "El perimetro del triángulo es:  13.856406460551018\n"
          ]
        }
      ]
    }
  ]
}